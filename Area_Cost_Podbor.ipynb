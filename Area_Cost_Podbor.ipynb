{
 "cells": [
  {
   "cell_type": "code",
   "execution_count": 1,
   "metadata": {},
   "outputs": [],
   "source": [
    "%matplotlib inline\n",
    "\n",
    "import pandas as pd\n",
    "import numpy as np\n",
    "import matplotlib.pyplot as plt\n",
    "import re\n",
    "from datetime import datetime, timedelta\n",
    "\n",
    "plt.style.use('ggplot')\n",
    "plt.rcParams['figure.figsize'] = (50, 10)\n",
    "\n",
    "\n",
    "pd.set_option('display.max_columns', 50)\n",
    "pd.set_option('display.max_rows', 1000)"
   ]
  },
  {
   "cell_type": "code",
   "execution_count": 2,
   "metadata": {},
   "outputs": [],
   "source": [
    "#Чтобы открыть необходимый нам датафрейм, в котором собраны все данные, в этом случае это 'objects.csv'\n",
    "objects = pd.read_csv('objects.csv', sep=';')"
   ]
  },
  {
   "cell_type": "code",
   "execution_count": 3,
   "metadata": {},
   "outputs": [],
   "source": [
    "#Чтобы изменить дату в столбце AgreementDate, а format это указывает программе, какой формат даты записан в objects\n",
    "objects['AgreementDate'] = pd.to_datetime(objects['AgreementDate'], format='%d.%m.%Y %H:%M')\n",
    "\n",
    "#Новая переменная df_sort_date будет иметь данные objects, которые были сортированы по столбцу AgreementDate(уже имеет тип datetime)\n",
    "df_sort_date = objects.sort_values(by='AgreementDate')"
   ]
  },
  {
   "cell_type": "code",
   "execution_count": 4,
   "metadata": {},
   "outputs": [],
   "source": [
    "#clear_df это новая чистая dataframe, который имеет столбцы Date, Area и Cost\n",
    "clear_df = pd.read_csv('clear_df.csv', sep=';')"
   ]
  },
  {
   "cell_type": "code",
   "execution_count": 5,
   "metadata": {},
   "outputs": [],
   "source": [
    "#Программа будет идти по objects, и искать необходимый нам ЖК, и которые были проданы. И анализированные данные будут в датафрейме clear_df\n",
    "for i in range(len(objects)):\n",
    "    if df_sort_date['ObjectName'][i] == 'Арнау - 8' and str(df_sort_date['AgreementDate'][i]) != 'NaT':\n",
    "        clear_df = clear_df.append({'Date': df_sort_date['AgreementDate'][i], 'Area':df_sort_date['Area'][i], 'Cost':df_sort_date['Cost'][i]}, ignore_index=True)\n",
    "\n",
    "#Теперь clear_df будет отсортирован по дате\n",
    "clear_df = clear_df.sort_values(by='Date')"
   ]
  },
  {
   "cell_type": "code",
   "execution_count": 6,
   "metadata": {},
   "outputs": [
    {
     "data": {
      "text/plain": [
       "'2019-06-28'"
      ]
     },
     "execution_count": 6,
     "metadata": {},
     "output_type": "execute_result"
    }
   ],
   "source": [
    "#Теперь отправим необходимый нам dataframe \n",
    "df = clear_df\n",
    "jk_table = df[0:0]\n",
    "df['Date'] = pd.to_datetime(df['Date'])\n",
    "df.index = df['Date']\n",
    "str(df.sort_index()['Date'][0]).split(' ')[0]\n",
    "str(df.sort_index()['Date'][-1]).split(' ')[0]"
   ]
  },
  {
   "cell_type": "code",
   "execution_count": 7,
   "metadata": {},
   "outputs": [],
   "source": [
    "#определяет первый день\n",
    "first_day = df['Date'][0]\n",
    "#определяет второй день\n",
    "last_day = df['Date'][-1]\n",
    "#вычислить количество дней от начала продажи, до конца продажи\n",
    "all_day = int(str(last_day - first_day).split(' ')[0])\n",
    "\n",
    "day = datetime.strptime(str(first_day).split(' ')[0], '%Y-%m-%d')\n",
    "\n",
    "#Этот цикл заполняет пустой jk_table с пустыми элементами\n",
    "for i in range(all_day+1):\n",
    "    \n",
    "    jk_table = jk_table.append({'Date': str(day).split(' ')[0], 'Area':0, 'Cost':0}, ignore_index=True)\n",
    "    day = (day + timedelta(days=1)).strftime('%Y-%m-%d')\n",
    "    day = datetime.strptime(day, '%Y-%m-%d')\n",
    "\n",
    "#Заново определяет дату, т.к дата сбилась после первого цикла\n",
    "day = datetime.strptime(str(first_day).split(' ')[0], '%Y-%m-%d') \n",
    "\n",
    "#Этот цикл будет заполнять jk_table ценными информациями, которые имелись там\n",
    "for j in range(len(jk_table)):\n",
    "    \n",
    "    area = 0\n",
    "    cost = 0\n",
    "    for i in range(len(df)):\n",
    "        #Дает условие, если дата в заполненном с пустыми элементами jk_table с тем данным, то добавляет его.\n",
    "        if jk_table['Date'][j] == str(df['Date'][i]).split(' ')[0]:\n",
    "            area += float('.'.join(df['Area'][i].split(','))) #Area имеет неправильный тип\n",
    "            cost += df['Cost'][i]\n",
    "\n",
    "        \n",
    "    jk_table['Date'][j] = str(day).split(' ')[0]\n",
    "    jk_table['Area'][j] = area\n",
    "    jk_table['Cost'][j] = cost\n",
    "    day = (day + timedelta(days=1)).strftime('%Y-%m-%d')\n",
    "    day = datetime.strptime(day, '%Y-%m-%d')\n"
   ]
  },
  {
   "cell_type": "code",
   "execution_count": 66,
   "metadata": {},
   "outputs": [],
   "source": [
    "#Данная строка отправляет готовые данные в Новый csv файл\n",
    "jk_table.to_csv('Proverka_Arnau8.csv', sep=';')"
   ]
  },
  {
   "cell_type": "code",
   "execution_count": null,
   "metadata": {
    "scrolled": true
   },
   "outputs": [],
   "source": []
  },
  {
   "cell_type": "code",
   "execution_count": null,
   "metadata": {},
   "outputs": [],
   "source": []
  }
 ],
 "metadata": {
  "kernelspec": {
   "display_name": "Python 3",
   "language": "python",
   "name": "python3"
  },
  "language_info": {
   "codemirror_mode": {
    "name": "ipython",
    "version": 3
   },
   "file_extension": ".py",
   "mimetype": "text/x-python",
   "name": "python",
   "nbconvert_exporter": "python",
   "pygments_lexer": "ipython3",
   "version": "3.7.0"
  }
 },
 "nbformat": 4,
 "nbformat_minor": 2
}
